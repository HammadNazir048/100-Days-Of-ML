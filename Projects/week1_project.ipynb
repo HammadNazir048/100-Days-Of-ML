{
  "nbformat": 4,
  "nbformat_minor": 0,
  "metadata": {
    "colab": {
      "provenance": []
    },
    "kernelspec": {
      "name": "python3",
      "display_name": "Python 3"
    },
    "language_info": {
      "name": "python"
    }
  },
  "cells": [
    {
      "cell_type": "code",
      "execution_count": 18,
      "metadata": {
        "colab": {
          "base_uri": "https://localhost:8080/"
        },
        "id": "24N0DzJ3h-OU",
        "outputId": "23d91f43-2462-4e9c-c7c1-7b610d41f355"
      },
      "outputs": [
        {
          "output_type": "stream",
          "name": "stdout",
          "text": [
            "Enter your name :Hammad Nazir\n",
            "Enter your age :23\n",
            "Enter your email :fa21-bcs-048@cuiatk.edu.pk\n",
            "Enter your favourite number :8\n",
            "Name: Hammad Nazir, Age: 23 , Email: fa21-bcs-048@cuiatk.edu.pk , Favourite_number: 8\n"
          ]
        }
      ],
      "source": [
        "#Question 1: User Data Collector\n",
        "user = {\n",
        "    \"name\" : input(\"Enter your name :\"),\n",
        "    \"age\" : int(input(\"Enter your age :\")),\n",
        "    \"email\" : input((\"Enter your email :\")),\n",
        "    \"fav_num\" : int(input(\"Enter your favourite number :\"))\n",
        "}\n",
        "\n",
        "if \"@\" in user[\"email\"] and \".\" in user[\"email\"]:\n",
        "    print(f\"Name: {user['name']}, Age: {user['age']} , Email: {user['email']} , Favourite_number: {user['fav_num']}\")\n",
        "else:\n",
        "  print(\"Please type correct email\")"
      ]
    },
    {
      "cell_type": "code",
      "source": [
        "#Question 2: Even or Odd?\n",
        "number = int(input(\"Enter a number to cheak even or odd : \"))\n",
        "\n",
        "def is_even(num):\n",
        "    if(number % 2 == 0):\n",
        "       print(\"Number is even\")\n",
        "    else:\n",
        "       print(\"Number is odd\")\n",
        "is_even(number);"
      ],
      "metadata": {
        "colab": {
          "base_uri": "https://localhost:8080/"
        },
        "id": "5uNUk4OhkRbV",
        "outputId": "76c5b119-cd10-4aac-ee52-325a48ffb3d5"
      },
      "execution_count": 33,
      "outputs": [
        {
          "output_type": "stream",
          "name": "stdout",
          "text": [
            "Enter a number to cheak even or odd : 33\n",
            "Number is odd\n"
          ]
        }
      ]
    },
    {
      "cell_type": "code",
      "source": [
        "#Question 3: Temperature Converter\n",
        "\n",
        "def convert_temperature(temp,scale):\n",
        "  if(scale=='c'):\n",
        "    converted_temperature = (temp * 9/5) + 32\n",
        "    print(\"Fahrenheit Temperature of \",temp,\" is :\", converted_temperature)\n",
        "  elif(scale=='f'):\n",
        "    converted_temperature = (temp-32) * 5/9\n",
        "    print(\"Celsius Temperature of \",temp,\"is :\", converted_temperature)\n",
        "  else:\n",
        "    print(\"Inavalid scale input\")\n",
        "\n",
        "temperature_input = float(input(\"Enter the temperature: \"))\n",
        "scale_input= input(\"Enter the scale of temperature: \")\n",
        "convert_temperature(temperature_input,scale_input)"
      ],
      "metadata": {
        "colab": {
          "base_uri": "https://localhost:8080/"
        },
        "id": "rP5CHF1InlCU",
        "outputId": "9504f87e-ec94-4eef-d03a-5b1e6cfc9935"
      },
      "execution_count": 53,
      "outputs": [
        {
          "output_type": "stream",
          "name": "stdout",
          "text": [
            "Enter the temperature: 213\n",
            "Enter the scale of temperature: c\n",
            "Fahrenheit Temperature of  213.0  is : 415.4\n"
          ]
        }
      ]
    },
    {
      "cell_type": "code",
      "source": [
        "#Question 4: Finding Min & Max\n",
        "nums = [int(input(f\"Enter number {i+1}: \")) for i in range(5)]\n",
        "print(f\"Max: {max(nums)}, Min: {min(nums)}\")"
      ],
      "metadata": {
        "colab": {
          "base_uri": "https://localhost:8080/"
        },
        "id": "634kk0HhtOxZ",
        "outputId": "f2409213-7a5b-42f8-e64d-42680c0cdebc"
      },
      "execution_count": 62,
      "outputs": [
        {
          "output_type": "stream",
          "name": "stdout",
          "text": [
            "Enter number 1: 12\n",
            "Enter number 2: 32\n",
            "Enter number 3: 21\n",
            "Enter number 4: 43\n",
            "Enter number 5: 13\n",
            "Max: 43, Min: 12\n"
          ]
        }
      ]
    },
    {
      "cell_type": "code",
      "source": [
        "# Question 5: Student Data Manager\n",
        "students = {input(\"Enter name: \"): (int(input(\"Enter age: \")), input(\"Enter grade: \")) for _ in range(3)}\n",
        "print(students)"
      ],
      "metadata": {
        "colab": {
          "base_uri": "https://localhost:8080/"
        },
        "id": "bhvHFneAxq8e",
        "outputId": "85c18756-2d59-44b5-8964-5b0337d355bf"
      },
      "execution_count": 63,
      "outputs": [
        {
          "output_type": "stream",
          "name": "stdout",
          "text": [
            "Enter name: Hammad\n",
            "Enter age: 23\n",
            "Enter grade: A\n",
            "Enter name: Haseeb\n",
            "Enter age: 21\n",
            "Enter grade: B\n",
            "Enter name: Ahmed\n",
            "Enter age: 12\n",
            "Enter grade: C\n",
            "{'Hammad': (23, 'A'), 'Haseeb': (21, 'B'), 'Ahmed': (12, 'C')}\n"
          ]
        }
      ]
    },
    {
      "cell_type": "code",
      "source": [
        "#Question 6: Inventory Management System\n",
        "def update_inventory(inv, item, qty):\n",
        "    inv[item] = max(0, inv.get(item, 0) + qty)\n",
        "    return inv\n",
        "\n",
        "inventory = {\"apple\": 10, \"banana\": 5, \"orange\": 8, \"grape\": 3, \"mango\": 7}\n",
        "for _ in range(3):\n",
        "    item = input(\"Enter item name: \")\n",
        "    qty = int(input(\"Enter quantity: \"))\n",
        "    update_inventory(inventory, item, qty)\n",
        "print(inventory)"
      ],
      "metadata": {
        "colab": {
          "base_uri": "https://localhost:8080/"
        },
        "id": "eodRTdkCy7pu",
        "outputId": "a0ebd11c-f8c7-4b88-f647-f1e78b187039"
      },
      "execution_count": 68,
      "outputs": [
        {
          "output_type": "stream",
          "name": "stdout",
          "text": [
            "Enter item name: apple\n",
            "Enter quantity: 12\n",
            "Enter item name: banana\n",
            "Enter quantity: 21\n",
            "Enter item name: mango\n",
            "Enter quantity: 2\n",
            "{'apple': 22, 'banana': 26, 'orange': 8, 'grape': 3, 'mango': 9}\n"
          ]
        }
      ]
    }
  ]
}