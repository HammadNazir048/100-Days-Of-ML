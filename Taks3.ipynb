{
  "nbformat": 4,
  "nbformat_minor": 0,
  "metadata": {
    "colab": {
      "provenance": []
    },
    "kernelspec": {
      "name": "python3",
      "display_name": "Python 3"
    },
    "language_info": {
      "name": "python"
    }
  },
  "cells": [
    {
      "cell_type": "code",
      "execution_count": null,
      "metadata": {
        "id": "JTmzl9yvZ2ET"
      },
      "outputs": [],
      "source": [
        "# Solve the following problems crate a notebook for Task 3 Upload it to GitHub Repository and submit\n",
        "# that link below:\n",
        "\n",
        "# 1. MSE\n",
        "# 2. RMSE\n",
        "# 3. Cosine Similarity\n",
        "# 4. Linear Regression\n",
        "# 5. Softmax Function"
      ]
    },
    {
      "cell_type": "code",
      "source": [
        "import numpy as np\n",
        "\n",
        "x_values = [5, 15, 25, 35, 45]\n",
        "y_values = [8, 18, 28, 38, 48]\n",
        "\n",
        "def mse(y_actual, y_predicted):\n",
        "    errors = [(a - p) ** 2 for a, p in zip(y_actual, y_predicted)]\n",
        "    return sum(errors) / len(errors)\n",
        "\n",
        "def rmse(y_actual, y_predicted):\n",
        "    return mse(y_actual, y_predicted) ** 0.5\n",
        "\n",
        "def cosine_sim(vec1, vec2):\n",
        "    dot_product = sum(a * b for a, b in zip(vec1, vec2))\n",
        "    magnitude1 = sum(a ** 2 for a in vec1) ** 0.5\n",
        "    magnitude2 = sum(b ** 2 for b in vec2) ** 0.5\n",
        "    return dot_product / (magnitude1 * magnitude2)\n",
        "\n",
        "def softmax(scores):\n",
        "    exp_scores = [np.exp(s - max(scores)) for s in scores]\n",
        "    total = sum(exp_scores)\n",
        "    return [s / total for s in exp_scores]\n",
        "\n",
        "mean_x = sum(x_values) / len(x_values)\n",
        "mean_y = sum(y_values) / len(y_values)\n",
        "\n",
        "numerator = sum((x - mean_x) * (y - mean_y) for x, y in zip(x_values, y_values))\n",
        "denominator = sum((x - mean_x) ** 2 for x in x_values)\n",
        "\n",
        "a = numerator / denominator\n",
        "b = mean_y - a * mean_x\n",
        "\n",
        "y_pred = [a * x + b for x in x_values]\n",
        "\n",
        "print(\"Linear Regression Coefficients: a =\", round(a, 2), \", b =\", round(b, 2))\n",
        "print(\"Predicted Y values:\", y_pred)\n",
        "print(\"MSE:\", mse(y_values, y_pred))\n",
        "print(\"RMSE:\", rmse(y_values, y_pred))\n",
        "print(\"Cosine Similarity:\", cosine_sim([2, 4, 6], [1, 3, 5]))\n",
        "print(\"Softmax Output:\", softmax([2.5, 1.5, 0.5]))\n"
      ],
      "metadata": {
        "colab": {
          "base_uri": "https://localhost:8080/"
        },
        "id": "CMvvGXogcOu9",
        "outputId": "2a46c8d9-2318-4f14-d4c1-45d6df2333ea"
      },
      "execution_count": 4,
      "outputs": [
        {
          "output_type": "stream",
          "name": "stdout",
          "text": [
            "Linear Regression Coefficients: a = 1.0 , b = 3.0\n",
            "Predicted Y values: [8.0, 18.0, 28.0, 38.0, 48.0]\n",
            "MSE: 0.0\n",
            "RMSE: 0.0\n",
            "Cosine Similarity: 0.9938586931957764\n",
            "Softmax Output: [0.6652409557748218, 0.24472847105479764, 0.09003057317038046]\n"
          ]
        }
      ]
    }
  ]
}