{
  "nbformat": 4,
  "nbformat_minor": 0,
  "metadata": {
    "colab": {
      "provenance": []
    },
    "kernelspec": {
      "name": "python3",
      "display_name": "Python 3"
    },
    "language_info": {
      "name": "python"
    }
  },
  "cells": [
    {
      "cell_type": "code",
      "execution_count": null,
      "metadata": {
        "id": "Z_3sF0PpOzRI"
      },
      "outputs": [],
      "source": [
        "# Create a notebook file with the name os task 2 create functions for following in python(no libraries):\n",
        "# 1. Mean / Meadian / Mode Calculation of a list of numbers.\n",
        "# 2. A function that can calculate variance for the same list you used in part 1.\n",
        "# 3. A function that can calculate standard deviation the same list you used in part 1.\n",
        "# 4. Euclidean distance for 2 values or 2 lists.\n",
        "# 5. Sigmoid Fuction."
      ]
    },
    {
      "cell_type": "code",
      "source": [
        "numbers = [12, 22, 33, 14, 45, 26, 67, 18, 39]\n",
        "mean = sum(numbers) / len(numbers)\n",
        "print(\"Mean value is :\",mean)"
      ],
      "metadata": {
        "colab": {
          "base_uri": "https://localhost:8080/"
        },
        "id": "q9Rof6soPCCM",
        "outputId": "759852e3-f838-4d16-b7d1-d5eb299bf147"
      },
      "execution_count": 27,
      "outputs": [
        {
          "output_type": "stream",
          "name": "stdout",
          "text": [
            "Mean value is : 30.666666666666668\n"
          ]
        }
      ]
    },
    {
      "cell_type": "code",
      "source": [
        "numbers.sort()\n",
        "n = len(numbers)\n",
        "mid = n // 2\n",
        "median = numbers[mid] if n % 2 != 0 else (numbers[mid - 1] + numbers[mid]) / 2\n",
        "print(\"Median value is :\", median)"
      ],
      "metadata": {
        "colab": {
          "base_uri": "https://localhost:8080/"
        },
        "id": "7DTwItmGQhHH",
        "outputId": "ec754abd-91a9-4fbd-9614-7a454644f3cd"
      },
      "execution_count": 28,
      "outputs": [
        {
          "output_type": "stream",
          "name": "stdout",
          "text": [
            "Median value is : 26\n"
          ]
        }
      ]
    },
    {
      "cell_type": "code",
      "source": [
        "numbers_count = {}\n",
        "\n",
        "for num in numbers:\n",
        "    numbers_count[num] = numbers_count.get(num, 0) + 1\n",
        "\n",
        "highest_frequency = max(numbers_count.values(), default=0)\n",
        "\n",
        "mode_values = [num for num, count in numbers_count.items() if count == highest_frequency]\n",
        "\n",
        "print(\"Mode value is:\", mode_values[0] if len(mode_values) == 1 else mode_values)\n"
      ],
      "metadata": {
        "colab": {
          "base_uri": "https://localhost:8080/"
        },
        "id": "VFBVctmTQfdG",
        "outputId": "4cc142e6-b09a-4d72-bf61-1e0a8f929426"
      },
      "execution_count": 29,
      "outputs": [
        {
          "output_type": "stream",
          "name": "stdout",
          "text": [
            "Mode value is: [12, 14, 18, 22, 26, 33, 39, 45, 67]\n"
          ]
        }
      ]
    },
    {
      "cell_type": "code",
      "source": [
        "variance = sum((x - mean) ** 2 for x in numbers) / len(numbers)\n",
        "print(\"Variance value is :\", variance)"
      ],
      "metadata": {
        "colab": {
          "base_uri": "https://localhost:8080/"
        },
        "id": "Pl15B3M0Qdiu",
        "outputId": "e522817a-f1d7-40d3-f57c-8a0418e78542"
      },
      "execution_count": 30,
      "outputs": [
        {
          "output_type": "stream",
          "name": "stdout",
          "text": [
            "Variance value is : 276.0\n"
          ]
        }
      ]
    },
    {
      "cell_type": "code",
      "source": [
        "standard_deviation = variance ** 0.5\n",
        "print(\"Standard Deviation value is :\", standard_deviation)"
      ],
      "metadata": {
        "colab": {
          "base_uri": "https://localhost:8080/"
        },
        "id": "JM6DEdoXQa-Z",
        "outputId": "1408a0d3-74e4-49e2-b0fc-56c39d66be4b"
      },
      "execution_count": 31,
      "outputs": [
        {
          "output_type": "stream",
          "name": "stdout",
          "text": [
            "Standard Deviation value is : 16.61324772583615\n"
          ]
        }
      ]
    },
    {
      "cell_type": "code",
      "source": [
        "def euclidean_distance(a, b):\n",
        "    if isinstance(a, (int, float)) and isinstance(b, (int, float)):\n",
        "        return abs(a - b)\n",
        "    return (sum((x - y) ** 2 for x, y in zip(a, b))) ** 0.5\n",
        "\n",
        "print(\"Euclidean Distance value is:\", euclidean_distance([1, 2, 3], [4, 5, 6]))"
      ],
      "metadata": {
        "colab": {
          "base_uri": "https://localhost:8080/"
        },
        "id": "YTKaZFgQQWPs",
        "outputId": "5bd26280-06c9-4c18-d511-ec334acae29c"
      },
      "execution_count": 32,
      "outputs": [
        {
          "output_type": "stream",
          "name": "stdout",
          "text": [
            "Euclidean Distance value is: 5.196152422706632\n"
          ]
        }
      ]
    },
    {
      "cell_type": "code",
      "source": [
        "def sigmoid(x):\n",
        "    return 1 / (1 + (2.71828 ** -x))\n",
        "\n",
        "print(\"Sigmoid value is:\", sigmoid(2))\n"
      ],
      "metadata": {
        "colab": {
          "base_uri": "https://localhost:8080/"
        },
        "id": "kd7OnBEUQuKT",
        "outputId": "d7cb556d-3a51-4407-b1e6-e3786e3f0c91"
      },
      "execution_count": 33,
      "outputs": [
        {
          "output_type": "stream",
          "name": "stdout",
          "text": [
            "Sigmoid value is: 0.880796936729369\n"
          ]
        }
      ]
    }
  ]
}