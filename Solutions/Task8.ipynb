{
  "nbformat": 4,
  "nbformat_minor": 0,
  "metadata": {
    "colab": {
      "provenance": []
    },
    "kernelspec": {
      "name": "python3",
      "display_name": "Python 3"
    },
    "language_info": {
      "name": "python"
    }
  },
  "cells": [
    {
      "cell_type": "markdown",
      "source": [
        "### **Iterators and Iterables in Python**"
      ],
      "metadata": {
        "id": "ajglPWJ4SVYm"
      }
    },
    {
      "cell_type": "markdown",
      "source": [
        "List Values"
      ],
      "metadata": {
        "id": "UvtiNbaTTGvv"
      }
    },
    {
      "cell_type": "code",
      "source": [
        "My_List = [10,21,30,41,50,60,70,80,90]"
      ],
      "metadata": {
        "id": "pI6T2ahASaBJ"
      },
      "execution_count": null,
      "outputs": []
    },
    {
      "cell_type": "markdown",
      "source": [
        "1) Iterator"
      ],
      "metadata": {
        "id": "MPlYM-fBTRSx"
      }
    },
    {
      "cell_type": "code",
      "source": [
        "print(iter(My_List))"
      ],
      "metadata": {
        "colab": {
          "base_uri": "https://localhost:8080/"
        },
        "id": "28txJd_VS_xm",
        "outputId": "d3dc4464-de2b-49ae-e8c4-985e7bd8a331"
      },
      "execution_count": null,
      "outputs": [
        {
          "output_type": "stream",
          "name": "stdout",
          "text": [
            "<list_iterator object at 0x798249407250>\n"
          ]
        }
      ]
    },
    {
      "cell_type": "markdown",
      "source": [
        "2) Using Next() function"
      ],
      "metadata": {
        "id": "o_NoNYuyTYz-"
      }
    },
    {
      "cell_type": "code",
      "source": [
        "print(next(iter(My_List)))"
      ],
      "metadata": {
        "colab": {
          "base_uri": "https://localhost:8080/"
        },
        "id": "Apc8aIt7TW2N",
        "outputId": "38ee117c-0eb4-4de0-d8f2-5309613a6124"
      },
      "execution_count": null,
      "outputs": [
        {
          "output_type": "stream",
          "name": "stdout",
          "text": [
            "10\n"
          ]
        }
      ]
    },
    {
      "cell_type": "markdown",
      "source": [
        "3) Looping through the list"
      ],
      "metadata": {
        "id": "E7gRZhAYUbK-"
      }
    },
    {
      "cell_type": "code",
      "source": [
        "for iterator in My_List:\n",
        "  print(iterator)"
      ],
      "metadata": {
        "colab": {
          "base_uri": "https://localhost:8080/"
        },
        "id": "jCDot5jxUE3g",
        "outputId": "ca6e2ead-6396-4ca5-cfde-7d326247a7d3"
      },
      "execution_count": null,
      "outputs": [
        {
          "output_type": "stream",
          "name": "stdout",
          "text": [
            "10\n",
            "20\n",
            "30\n",
            "40\n",
            "50\n",
            "60\n",
            "70\n",
            "80\n",
            "90\n"
          ]
        }
      ]
    },
    {
      "cell_type": "markdown",
      "source": [
        "## **Generators**"
      ],
      "metadata": {
        "id": "bwIVbqVPUtgz"
      }
    },
    {
      "cell_type": "markdown",
      "source": [
        "Using yield keyword instead of return"
      ],
      "metadata": {
        "id": "lggo9-F_WxpI"
      }
    },
    {
      "cell_type": "code",
      "source": [
        "def even_no():\n",
        "  for i in My_List:\n",
        "    if i % 2 == 0:\n",
        "      yield i\n",
        "\n",
        "generator = even_no()\n",
        "\n",
        "for num in generator:\n",
        "  print(num)"
      ],
      "metadata": {
        "colab": {
          "base_uri": "https://localhost:8080/"
        },
        "id": "to1fUNcyUmqo",
        "outputId": "b7c0ab0c-c5f4-468a-b6e7-8d955772a01e"
      },
      "execution_count": null,
      "outputs": [
        {
          "output_type": "stream",
          "name": "stdout",
          "text": [
            "10\n",
            "30\n",
            "50\n",
            "60\n",
            "70\n",
            "80\n",
            "90\n"
          ]
        }
      ]
    },
    {
      "cell_type": "markdown",
      "source": [
        "### **Using Generators for CSV Data**"
      ],
      "metadata": {
        "id": "l6iTFva1Yx8f"
      }
    },
    {
      "cell_type": "code",
      "source": [
        "import pandas as pd\n",
        "\n",
        "read = pd.read_csv(\"/content/sample_data/california_housing_train.csv\")"
      ],
      "metadata": {
        "id": "js0DlPgfXNTZ"
      },
      "execution_count": 30,
      "outputs": []
    },
    {
      "cell_type": "code",
      "source": [
        "def value():\n",
        "    for val in read[\"median_house_value\"]:\n",
        "        if val > 50000:\n",
        "            yield val\n",
        "\n",
        "print(list(value())[:5])"
      ],
      "metadata": {
        "colab": {
          "base_uri": "https://localhost:8080/"
        },
        "id": "g2buuMSJaESE",
        "outputId": "c5468bdc-2106-4b58-9507-872567d9569d"
      },
      "execution_count": 39,
      "outputs": [
        {
          "output_type": "stream",
          "name": "stdout",
          "text": [
            "[66900.0, 80100.0, 85700.0, 73400.0, 65500.0]\n"
          ]
        }
      ]
    },
    {
      "cell_type": "code",
      "source": [],
      "metadata": {
        "id": "3-piB4Lwacny"
      },
      "execution_count": null,
      "outputs": []
    }
  ]
}