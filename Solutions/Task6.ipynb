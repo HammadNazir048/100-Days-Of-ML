{
  "nbformat": 4,
  "nbformat_minor": 0,
  "metadata": {
    "colab": {
      "provenance": []
    },
    "kernelspec": {
      "name": "python3",
      "display_name": "Python 3"
    },
    "language_info": {
      "name": "python"
    }
  },
  "cells": [
    {
      "cell_type": "code",
      "execution_count": null,
      "metadata": {
        "id": "eU0erd7Hd4hD"
      },
      "outputs": [],
      "source": [
        "def evaluate_temp(temp):\n",
        "  massage = \"Normal Temperature\"\n",
        "  if temp > 98:\n",
        "   massage = \"Fever\"\n",
        "  return massage"
      ]
    },
    {
      "cell_type": "code",
      "source": [
        "print (evaluate_temp(99))"
      ],
      "metadata": {
        "colab": {
          "base_uri": "https://localhost:8080/"
        },
        "id": "OHrrwqmCeNYL",
        "outputId": "25c24c37-e528-42e2-fd59-21282adbd829"
      },
      "execution_count": null,
      "outputs": [
        {
          "output_type": "stream",
          "name": "stdout",
          "text": [
            "Fever\n"
          ]
        }
      ]
    },
    {
      "cell_type": "code",
      "source": [
        "def evaluate_temp_with_if(temp):\n",
        "  if temp<=98 :\n",
        "    massage = \"Normal Temperature\"\n",
        "  else:\n",
        "    massage = \"Fever\"\n",
        "  return massage"
      ],
      "metadata": {
        "id": "2aWKUDUve4-3"
      },
      "execution_count": null,
      "outputs": []
    },
    {
      "cell_type": "code",
      "source": [
        "print (evaluate_temp_with_if(99))"
      ],
      "metadata": {
        "colab": {
          "base_uri": "https://localhost:8080/"
        },
        "id": "EJ5o5DeLgRk0",
        "outputId": "fb5a0940-dbe5-4162-9b50-51a249d88f05"
      },
      "execution_count": null,
      "outputs": [
        {
          "output_type": "stream",
          "name": "stdout",
          "text": [
            "Fever\n"
          ]
        }
      ]
    },
    {
      "cell_type": "code",
      "source": [
        "def evaluate_temp_with_elif(temp):\n",
        "  if temp<98:\n",
        "    massage = \"Lower Temperature\"\n",
        "  elif temp==98:\n",
        "    massage = \"Normal Temperature\"\n",
        "  else:\n",
        "    masage = \"Fever\""
      ],
      "metadata": {
        "id": "yKciNZlPgZFX"
      },
      "execution_count": null,
      "outputs": []
    },
    {
      "cell_type": "code",
      "source": [
        "print(evaluate_temp_with_elif(99))"
      ],
      "metadata": {
        "colab": {
          "base_uri": "https://localhost:8080/"
        },
        "id": "3p-IPdXUg8ee",
        "outputId": "349ea6ec-7e35-4eb5-d597-bb8e1e1ce4d5"
      },
      "execution_count": null,
      "outputs": [
        {
          "output_type": "stream",
          "name": "stdout",
          "text": [
            "None\n"
          ]
        }
      ]
    },
    {
      "cell_type": "code",
      "source": [
        "def tax_calc(earnings):\n",
        "  if earnings < 10000:\n",
        "    tax_owed = .25 * earnings\n",
        "  else:\n",
        "    tax_owed = .30 * earnings\n",
        "  return tax_owed\n",
        "\n",
        "tax01 = tax_calc(20000)\n",
        "tax02 = tax_calc(5000)\n",
        "print(tax01)\n",
        "print(tax02)"
      ],
      "metadata": {
        "id": "XQhNRyJthBcK",
        "colab": {
          "base_uri": "https://localhost:8080/"
        },
        "outputId": "ffd816bb-36cd-412c-b174-6d62b6a55c91"
      },
      "execution_count": 16,
      "outputs": [
        {
          "output_type": "stream",
          "name": "stdout",
          "text": [
            "6000.0\n",
            "1250.0\n"
          ]
        }
      ]
    },
    {
      "cell_type": "code",
      "source": [
        "def get_dose(weight):\n",
        "  if weight < 5.2:\n",
        "    dose = 10\n",
        "  elif weight < 6.2:\n",
        "    dose = 20\n",
        "  elif weight < 7.2:\n",
        "    dose = 30\n",
        "  elif weight < 8.2:\n",
        "    dose = 40\n",
        "  elif weight < 9.2:\n",
        "    dose = 50\n",
        "  else:\n",
        "    dose = 100\n",
        "  return dose\n",
        "\n",
        "print (get_dose(7))"
      ],
      "metadata": {
        "colab": {
          "base_uri": "https://localhost:8080/"
        },
        "id": "zPd2br9pBaR_",
        "outputId": "b48a5d25-a1cb-4bee-f246-ad3201c1d2ef"
      },
      "execution_count": 17,
      "outputs": [
        {
          "output_type": "stream",
          "name": "stdout",
          "text": [
            "30\n"
          ]
        }
      ]
    },
    {
      "cell_type": "markdown",
      "source": [
        "Intro to Lists"
      ],
      "metadata": {
        "id": "KdUnQDNOD28M"
      }
    },
    {
      "cell_type": "code",
      "source": [
        "flowers = \"pink primrose,hard-leaved pocket orchid,canterbury bells,sweet pea,english marigold,tiger lily,moon orchid,bird of paradise,monkshood,globe thistle\"\n",
        "\n",
        "print(type(flowers))\n",
        "print(flowers)"
      ],
      "metadata": {
        "colab": {
          "base_uri": "https://localhost:8080/"
        },
        "id": "tBjxho-iD5UY",
        "outputId": "15352715-4963-4500-ecf3-642173bb4be1"
      },
      "execution_count": 20,
      "outputs": [
        {
          "output_type": "stream",
          "name": "stdout",
          "text": [
            "<class 'str'>\n",
            "pink primrose,hard-leaved pocket orchid,canterbury bells,sweet pea,english marigold,tiger lily,moon orchid,bird of paradise,monkshood,globe thistle\n"
          ]
        }
      ]
    },
    {
      "cell_type": "code",
      "source": [
        "flowers_list = [\"pink primrose\", \"hard-leaved pocket orchid\", \"canterbury bells\", \"sweet pea\", \"english marigold\", \"tiger lily\", \"moon orchid\", \"bird of paradise\", \"monkshood\", \"globe thistle\"]\n",
        "print (type(flowers_list))\n",
        "print(flowers_list)"
      ],
      "metadata": {
        "colab": {
          "base_uri": "https://localhost:8080/"
        },
        "id": "28rW_FCLEMf8",
        "outputId": "1b9ce52a-2f8d-42e2-886f-f2ea7ae98271"
      },
      "execution_count": 21,
      "outputs": [
        {
          "output_type": "stream",
          "name": "stdout",
          "text": [
            "<class 'list'>\n",
            "['pink primrose', 'hard-leaved pocket orchid', 'canterbury bells', 'sweet pea', 'english marigold', 'tiger lily', 'moon orchid', 'bird of paradise', 'monkshood', 'globe thistle']\n"
          ]
        }
      ]
    },
    {
      "cell_type": "code",
      "source": [
        "print(len(flowers_list))"
      ],
      "metadata": {
        "colab": {
          "base_uri": "https://localhost:8080/"
        },
        "id": "SwvxqYapEmj7",
        "outputId": "e11ebeee-cb6c-4d27-a551-a72e0119b078"
      },
      "execution_count": 22,
      "outputs": [
        {
          "output_type": "stream",
          "name": "stdout",
          "text": [
            "10\n"
          ]
        }
      ]
    },
    {
      "cell_type": "code",
      "source": [
        "print(\"First entry : \" , flowers_list[0])"
      ],
      "metadata": {
        "colab": {
          "base_uri": "https://localhost:8080/"
        },
        "id": "e8KqPMhOEq3i",
        "outputId": "0017dd5a-b980-47ed-9a96-0f52db9f4c0f"
      },
      "execution_count": 23,
      "outputs": [
        {
          "output_type": "stream",
          "name": "stdout",
          "text": [
            "First entry :  pink primrose\n"
          ]
        }
      ]
    },
    {
      "cell_type": "code",
      "source": [
        "print(\"Second Entry : \" , flowers_list[1])"
      ],
      "metadata": {
        "colab": {
          "base_uri": "https://localhost:8080/"
        },
        "id": "7WZ_p7SAEyHi",
        "outputId": "64d70858-b5ca-4252-d3cd-7575173cf392"
      },
      "execution_count": 24,
      "outputs": [
        {
          "output_type": "stream",
          "name": "stdout",
          "text": [
            "Second Entry :  hard-leaved pocket orchid\n"
          ]
        }
      ]
    },
    {
      "cell_type": "code",
      "source": [
        "print(\"Last Entry : \" , flowers_list[-1])"
      ],
      "metadata": {
        "colab": {
          "base_uri": "https://localhost:8080/"
        },
        "id": "06vAMPH4E4Q6",
        "outputId": "1ca446b5-b976-4d06-9aea-e53d39c7dd7d"
      },
      "execution_count": 28,
      "outputs": [
        {
          "output_type": "stream",
          "name": "stdout",
          "text": [
            "Last Entry :  globe thistle\n"
          ]
        }
      ]
    },
    {
      "cell_type": "code",
      "source": [
        "print(\"First three entries : \" , flowers_list[:3])\n",
        "print(\"Last three entries : \" , flowers_list[-3:])"
      ],
      "metadata": {
        "colab": {
          "base_uri": "https://localhost:8080/"
        },
        "id": "UU7lOGulE-R6",
        "outputId": "83c84966-877c-430e-850e-5528fb298ac0"
      },
      "execution_count": 29,
      "outputs": [
        {
          "output_type": "stream",
          "name": "stdout",
          "text": [
            "First three entries :  ['pink primrose', 'hard-leaved pocket orchid', 'canterbury bells']\n",
            "Last three entries :  ['bird of paradise', 'monkshood', 'globe thistle']\n"
          ]
        }
      ]
    },
    {
      "cell_type": "code",
      "source": [
        "flowers_list.remove(\"monkshood\")"
      ],
      "metadata": {
        "id": "QpwNj7upFVyc"
      },
      "execution_count": 30,
      "outputs": []
    },
    {
      "cell_type": "code",
      "source": [
        "print(flowers_list)"
      ],
      "metadata": {
        "colab": {
          "base_uri": "https://localhost:8080/"
        },
        "id": "9Ymr-K1KFfXs",
        "outputId": "76442a9c-f35f-4a93-ddd5-7aef73c815f4"
      },
      "execution_count": 31,
      "outputs": [
        {
          "output_type": "stream",
          "name": "stdout",
          "text": [
            "['pink primrose', 'hard-leaved pocket orchid', 'canterbury bells', 'sweet pea', 'english marigold', 'tiger lily', 'moon orchid', 'bird of paradise', 'globe thistle']\n"
          ]
        }
      ]
    },
    {
      "cell_type": "code",
      "source": [
        "flowers_list.append(\"New Flower\")"
      ],
      "metadata": {
        "id": "xVzs_hf_FieH"
      },
      "execution_count": 32,
      "outputs": []
    },
    {
      "cell_type": "code",
      "source": [
        "print(flowers_list)"
      ],
      "metadata": {
        "colab": {
          "base_uri": "https://localhost:8080/"
        },
        "id": "Uf5AtyAFFm-z",
        "outputId": "77647dd3-99fa-44c2-8911-a5b8fdd62a68"
      },
      "execution_count": 33,
      "outputs": [
        {
          "output_type": "stream",
          "name": "stdout",
          "text": [
            "['pink primrose', 'hard-leaved pocket orchid', 'canterbury bells', 'sweet pea', 'english marigold', 'tiger lily', 'moon orchid', 'bird of paradise', 'globe thistle', 'New Flower']\n"
          ]
        }
      ]
    },
    {
      "cell_type": "code",
      "source": [
        "numbers_list = [1,2,3,4,5,6,7,8,9]\n",
        "\n",
        "print(len(numbers_list))"
      ],
      "metadata": {
        "colab": {
          "base_uri": "https://localhost:8080/"
        },
        "id": "W_1HNsscFo_l",
        "outputId": "cc1b566f-6c89-4669-b25b-7f45c7fa7f01"
      },
      "execution_count": 34,
      "outputs": [
        {
          "output_type": "stream",
          "name": "stdout",
          "text": [
            "9\n"
          ]
        }
      ]
    },
    {
      "cell_type": "code",
      "source": [
        "print(\"Minimum value in list is : \" , min(numbers_list))"
      ],
      "metadata": {
        "colab": {
          "base_uri": "https://localhost:8080/"
        },
        "id": "sDBhYnXeF0O9",
        "outputId": "004daf88-d56b-4b1f-9c7d-df9baf6af320"
      },
      "execution_count": 39,
      "outputs": [
        {
          "output_type": "stream",
          "name": "stdout",
          "text": [
            "Minimum value in list is :  1\n"
          ]
        }
      ]
    },
    {
      "cell_type": "code",
      "source": [
        "print(\"Maximum value in list is : \" , max(numbers_list))"
      ],
      "metadata": {
        "colab": {
          "base_uri": "https://localhost:8080/"
        },
        "id": "fk7CdnwcF3Tu",
        "outputId": "f91f2a85-a37c-4aae-a8bb-a114506624cd"
      },
      "execution_count": 40,
      "outputs": [
        {
          "output_type": "stream",
          "name": "stdout",
          "text": [
            "Maximum value in list is :  9\n"
          ]
        }
      ]
    },
    {
      "cell_type": "code",
      "source": [
        "print(sum(numbers_list))"
      ],
      "metadata": {
        "colab": {
          "base_uri": "https://localhost:8080/"
        },
        "id": "otRMHlaCGPvJ",
        "outputId": "8639df94-10ce-4692-b997-c8897a95b6ef"
      },
      "execution_count": 41,
      "outputs": [
        {
          "output_type": "stream",
          "name": "stdout",
          "text": [
            "45\n"
          ]
        }
      ]
    },
    {
      "cell_type": "code",
      "source": [
        "print(sum(numbers_list[:3])/5)"
      ],
      "metadata": {
        "colab": {
          "base_uri": "https://localhost:8080/"
        },
        "id": "T_cpZ1ZfGZKU",
        "outputId": "20934597-33a4-4bec-8c44-08ccbfe2912e"
      },
      "execution_count": 43,
      "outputs": [
        {
          "output_type": "stream",
          "name": "stdout",
          "text": [
            "1.2\n"
          ]
        }
      ]
    },
    {
      "cell_type": "code",
      "source": [],
      "metadata": {
        "id": "AH0U6yWhGfqp"
      },
      "execution_count": null,
      "outputs": []
    }
  ]
}